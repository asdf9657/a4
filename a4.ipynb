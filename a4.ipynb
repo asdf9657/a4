{
 "cells": [
  {
   "cell_type": "code",
   "execution_count": 1,
   "id": "07461e51",
   "metadata": {},
   "outputs": [],
   "source": [
    "#Use Autoencoder to implement anomaly detection. Build the model by using: \n",
    "#a. Import required libraries \n",
    "#b. Upload / access the dataset \n",
    "#d. Decoder networks convert it back to the original input \n",
    "#e. Compile the models with Optimizer, Loss, and Evaluation Metricsz"
   ]
  },
  {
   "cell_type": "code",
   "execution_count": 2,
   "id": "52dd5d59",
   "metadata": {},
   "outputs": [],
   "source": [
    "#import libraries\n",
    "import tensorflow as tf\n",
    "from tensorflow import keras\n",
    "from keras.models import Sequential\n",
    "from keras import layers, models\n",
    "from tensorflow.keras.datasets import mnist\n",
    "import matplotlib.pyplot as plt\n"
   ]
  },
  {
   "cell_type": "code",
   "execution_count": 3,
   "id": "28707f24",
   "metadata": {},
   "outputs": [],
   "source": [
    "(x_train, _ ), (x_test, _)= mnist.load_data()\n",
    "#normalize and astype\n",
    "x_train= x_train.astype('float')/255\n",
    "x_test= x_test.astype('float')/255"
   ]
  },
  {
   "cell_type": "raw",
   "id": "175b4133",
   "metadata": {},
   "source": [
    "#build model of encoder and decoder\n",
    "\n"
   ]
  },
  {
   "cell_type": "code",
   "execution_count": 4,
   "id": "b9bb9687",
   "metadata": {},
   "outputs": [],
   "source": [
    "encoder= models.Sequential([\n",
    "    layers.Flatten(input_shape=(28,28)),\n",
    "    layers.Dense(32, activation='relu')\n",
    "])"
   ]
  },
  {
   "cell_type": "code",
   "execution_count": 5,
   "id": "8c63eaf9",
   "metadata": {},
   "outputs": [],
   "source": [
    "decoder= models.Sequential([\n",
    "    layers.Dense(784, activation='sigmoid'),\n",
    "    layers.Reshape((28,28))\n",
    "])"
   ]
  },
  {
   "cell_type": "code",
   "execution_count": 6,
   "id": "287a1184",
   "metadata": {},
   "outputs": [],
   "source": [
    "#  d. Combine the encoder and decoder to create the autoencoder model:|\n",
    "autoencoder= models.Sequential([encoder, decoder])"
   ]
  },
  {
   "cell_type": "code",
   "execution_count": 7,
   "id": "6523fd13",
   "metadata": {},
   "outputs": [],
   "source": [
    "# e. Compile the models with optimizer, loss, and evaluation metrics:\n",
    "autoencoder.compile(optimizer= 'adam', \n",
    "                   loss= 'mean_squared_error')"
   ]
  },
  {
   "cell_type": "code",
   "execution_count": 8,
   "id": "0f76d117",
   "metadata": {},
   "outputs": [
    {
     "name": "stdout",
     "output_type": "stream",
     "text": [
      "Epoch 1/10\n",
      "938/938 [==============================] - 3s 3ms/step - loss: 0.0420 - val_loss: 0.0226\n",
      "Epoch 2/10\n",
      "938/938 [==============================] - 3s 3ms/step - loss: 0.0183 - val_loss: 0.0146\n",
      "Epoch 3/10\n",
      "938/938 [==============================] - 3s 3ms/step - loss: 0.0132 - val_loss: 0.0116\n",
      "Epoch 4/10\n",
      "938/938 [==============================] - 3s 3ms/step - loss: 0.0114 - val_loss: 0.0106\n",
      "Epoch 5/10\n",
      "938/938 [==============================] - 3s 3ms/step - loss: 0.0108 - val_loss: 0.0103\n",
      "Epoch 6/10\n",
      "938/938 [==============================] - 3s 3ms/step - loss: 0.0105 - val_loss: 0.0100\n",
      "Epoch 7/10\n",
      "938/938 [==============================] - 5s 5ms/step - loss: 0.0104 - val_loss: 0.0100\n",
      "Epoch 8/10\n",
      "938/938 [==============================] - 3s 3ms/step - loss: 0.0103 - val_loss: 0.0100\n",
      "Epoch 9/10\n",
      "938/938 [==============================] - 3s 3ms/step - loss: 0.0102 - val_loss: 0.0099\n",
      "Epoch 10/10\n",
      "938/938 [==============================] - 3s 3ms/step - loss: 0.0102 - val_loss: 0.0099\n"
     ]
    },
    {
     "data": {
      "text/plain": [
       "<keras.callbacks.History at 0x210bd522760>"
      ]
     },
     "execution_count": 8,
     "metadata": {},
     "output_type": "execute_result"
    }
   ],
   "source": [
    "#model_fit\n",
    "autoencoder.fit(x_train, x_train, epochs=10, batch_size=64, shuffle=True, validation_data=(x_test, x_test))\n"
   ]
  },
  {
   "cell_type": "code",
   "execution_count": 9,
   "id": "1cd4c9f0",
   "metadata": {},
   "outputs": [
    {
     "name": "stdout",
     "output_type": "stream",
     "text": [
      "313/313 [==============================] - 1s 1ms/step\n"
     ]
    }
   ],
   "source": [
    "decoded_imgs=autoencoder.predict(x_test) "
   ]
  },
  {
   "cell_type": "code",
   "execution_count": 10,
   "id": "92f06fb5",
   "metadata": {},
   "outputs": [
    {
     "name": "stdout",
     "output_type": "stream",
     "text": [
      "313/313 [==============================] - 1s 2ms/step\n"
     ]
    },
    {
     "data": {
      "image/png": "[encoded data removed]",
      "text/plain": [
       "<Figure size 2000x400 with 20 Axes>"
      ]
     },
     "metadata": {},
     "output_type": "display_data"
    }
   ],
   "source": [
    "## Visualize original and reconstructed images\n",
    "decoded_imgs = autoencoder.predict(x_test)\n",
    "n = 10\n",
    "import matplotlib.pyplot as plt\n",
    "\n",
    "plt.figure(figsize=(20, 4))\n",
    "\n",
    "for i in range(n):\n",
    "    plt.subplot(2, n, i + 1)\n",
    "    plt.imshow(x_test[i].reshape(28, 28), cmap='gray')\n",
    "    plt.axis('off')\n",
    "\n",
    "    plt.subplot(2, n, i + 1 + n)\n",
    "    plt.imshow(decoded_imgs[i].reshape(28, 28), cmap='gray')\n",
    "    plt.axis('off')\n",
    "\n",
    "plt.tight_layout()\n",
    "plt.show()\n",
    "\n"
   ]
  },
  {
   "cell_type": "code",
   "execution_count": null,
   "id": "9590ec71",
   "metadata": {},
   "outputs": [],
   "source": []
  }
 ],
 "metadata": {
  "kernelspec": {
   "display_name": "Python 3 (ipykernel)",
   "language": "python",
   "name": "python3"
  },
  "language_info": {
   "codemirror_mode": {
    "name": "ipython",
    "version": 3
   },
   "file_extension": ".py",
   "mimetype": "text/x-python",
   "name": "python",
   "nbconvert_exporter": "python",
   "pygments_lexer": "ipython3",
   "version": "3.9.13"
  }
 },
 "nbformat": 4,
 "nbformat_minor": 5
}
